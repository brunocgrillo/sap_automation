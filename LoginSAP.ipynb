{
 "cells": [
  {
   "cell_type": "code",
   "execution_count": 23,
   "id": "011d3b1e-475e-4d10-b25d-1df06176098f",
   "metadata": {},
   "outputs": [],
   "source": [
    "import win32com.client\n",
    "import subprocess\n",
    "import time\n",
    "import sys\n",
    "import pandas as pd\n",
    "\n",
    "base_upload_simulador = r\"D:\\Users\\bruno_cardozo\\Downloads\\Carga _Ivan_Cargaa.xlsx\"\n",
    "arquivo = pd.read_excel(base_upload_simulador)\n",
    "\n",
    "user = \"BCARDOZO\"\n",
    "password = \"Longlive30@@\"\n",
    "\n",
    "class SapGui(object):\n",
    "    def __init__(self):\n",
    "        self.path = r\"C:\\Program Files (x86)\\SAP\\FrontEnd\\SAPgui\\saplogon.exe\"\n",
    "        subprocess.Popen(self.path)\n",
    "        time.sleep(15)\n",
    "        self.SapGuiAuto = win32com.client.GetObject(\"SAPGUI\")\n",
    "        application = self.SapGuiAuto.GetScriptingEngine\n",
    "\n",
    "        self.connection = application.OpenConnection(\"2.01           Coty Brazil - SAP ECC - Development - Projects (ED7)\", True)\n",
    "        time.sleep(3)\n",
    "        self.session = self.connection.Children(0)\n",
    "        self.session.findById(\"wnd[0]\").maximize()\n",
    "\n",
    "    def sapLogin(self):\n",
    "        try:\n",
    "            self.session.findById(\"wnd[0]/usr/txtRSYST-MANDT\").text = \"130\"\n",
    "            self.session.findById(\"wnd[0]/usr/txtRSYST-BNAME\").text = user\n",
    "            self.session.findById(\"wnd[0]/usr/pwdRSYST-BCODE\").text = password\n",
    "            self.session.findById(\"wnd[0]/usr/txtRSYST-LANGU\").text = \"PT\"\n",
    "            self.session.FindById(\"wnd[0]\").sendVKey(0)\n",
    "\n",
    "        except:\n",
    "            print(sys.exc_info()[0])\n",
    "\n",
    "\n",
    "if __name__ == '__main__':\n",
    "    SapGui().sapLogin()"
   ]
  },
  {
   "cell_type": "code",
   "execution_count": null,
   "id": "d8c3a1eb-0469-4ccd-b111-ce6e4fc7253f",
   "metadata": {},
   "outputs": [],
   "source": []
  }
 ],
 "metadata": {
  "kernelspec": {
   "display_name": "Python [conda env:base] *",
   "language": "python",
   "name": "conda-base-py"
  },
  "language_info": {
   "codemirror_mode": {
    "name": "ipython",
    "version": 3
   },
   "file_extension": ".py",
   "mimetype": "text/x-python",
   "name": "python",
   "nbconvert_exporter": "python",
   "pygments_lexer": "ipython3",
   "version": "3.12.7"
  }
 },
 "nbformat": 4,
 "nbformat_minor": 5
}
